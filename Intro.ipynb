{
  "nbformat": 4,
  "nbformat_minor": 0,
  "metadata": {
    "colab": {
      "name": "Intro.ipynb",
      "provenance": [],
      "authorship_tag": "ABX9TyMipJu6KH9vC9LZQW1GZpYE",
      "include_colab_link": true
    },
    "kernelspec": {
      "name": "python3",
      "display_name": "Python 3"
    }
  },
  "cells": [
    {
      "cell_type": "markdown",
      "metadata": {
        "id": "view-in-github",
        "colab_type": "text"
      },
      "source": [
        "<a href=\"https://colab.research.google.com/github/sinkatka/test-colab/blob/main/Intro.ipynb\" target=\"_parent\"><img src=\"https://colab.research.google.com/assets/colab-badge.svg\" alt=\"Open In Colab\"/></a>"
      ]
    },
    {
      "cell_type": "markdown",
      "metadata": {
        "id": "4FG---MhMU6t"
      },
      "source": [
        "### Sales"
      ]
    },
    {
      "cell_type": "code",
      "metadata": {
        "colab": {
          "base_uri": "https://localhost:8080/"
        },
        "id": "Opuf9m4GMAK4",
        "outputId": "3b038f33-f70f-4068-fc9a-bc2c72398b8a"
      },
      "source": [
        "revenue =10000\r\n",
        "tax = 0.19\r\n",
        "income = revenue * tax\r\n",
        "income\r\n"
      ],
      "execution_count": 1,
      "outputs": [
        {
          "output_type": "execute_result",
          "data": {
            "text/plain": [
              "1900.0"
            ]
          },
          "metadata": {
            "tags": []
          },
          "execution_count": 1
        }
      ]
    },
    {
      "cell_type": "code",
      "metadata": {
        "colab": {
          "base_uri": "https://localhost:8080/"
        },
        "id": "MPjGgz7gMNCN",
        "outputId": "c31f2289-351c-48a9-fbad-a4d92308d464"
      },
      "source": [
        "print(income)"
      ],
      "execution_count": 2,
      "outputs": [
        {
          "output_type": "stream",
          "text": [
            "1900.0\n"
          ],
          "name": "stdout"
        }
      ]
    },
    {
      "cell_type": "markdown",
      "metadata": {
        "id": "oe1gnUaoMz4B"
      },
      "source": [
        "### Summary"
      ]
    },
    {
      "cell_type": "code",
      "metadata": {
        "colab": {
          "base_uri": "https://localhost:8080/",
          "height": 35
        },
        "id": "2hkcEAp-Mzmu",
        "outputId": "93807673-c99c-4982-c009-21d43230a345"
      },
      "source": [
        "import numpy as np\r\n",
        "\r\n",
        "np.__version__"
      ],
      "execution_count": 5,
      "outputs": [
        {
          "output_type": "execute_result",
          "data": {
            "application/vnd.google.colaboratory.intrinsic+json": {
              "type": "string"
            },
            "text/plain": [
              "'1.19.5'"
            ]
          },
          "metadata": {
            "tags": []
          },
          "execution_count": 5
        }
      ]
    },
    {
      "cell_type": "code",
      "metadata": {
        "id": "vk4wz18LNrkr"
      },
      "source": [
        "np.random.rand?\r\n"
      ],
      "execution_count": 6,
      "outputs": []
    },
    {
      "cell_type": "code",
      "metadata": {
        "colab": {
          "base_uri": "https://localhost:8080/",
          "height": 299
        },
        "id": "IzXuWF-ZN4ht",
        "outputId": "51f19fc7-f89f-4ff9-c208-2c6519605df8"
      },
      "source": [
        "import imageai"
      ],
      "execution_count": 7,
      "outputs": [
        {
          "output_type": "error",
          "ename": "ModuleNotFoundError",
          "evalue": "ignored",
          "traceback": [
            "\u001b[0;31m---------------------------------------------------------------------------\u001b[0m",
            "\u001b[0;31mModuleNotFoundError\u001b[0m                       Traceback (most recent call last)",
            "\u001b[0;32m<ipython-input-7-2cf5b4bddf56>\u001b[0m in \u001b[0;36m<module>\u001b[0;34m()\u001b[0m\n\u001b[0;32m----> 1\u001b[0;31m \u001b[0;32mimport\u001b[0m \u001b[0mimageai\u001b[0m\u001b[0;34m\u001b[0m\u001b[0;34m\u001b[0m\u001b[0m\n\u001b[0m",
            "\u001b[0;31mModuleNotFoundError\u001b[0m: No module named 'imageai'",
            "",
            "\u001b[0;31m---------------------------------------------------------------------------\u001b[0;32m\nNOTE: If your import is failing due to a missing package, you can\nmanually install dependencies using either !pip or !apt.\n\nTo view examples of installing some common dependencies, click the\n\"Open Examples\" button below.\n\u001b[0;31m---------------------------------------------------------------------------\u001b[0m\n"
          ]
        }
      ]
    },
    {
      "cell_type": "code",
      "metadata": {
        "colab": {
          "base_uri": "https://localhost:8080/",
          "height": 768
        },
        "id": "VF8sjSvhOGdl",
        "outputId": "c220a61e-8aa9-48b4-d87c-c886b4127c89"
      },
      "source": [
        "!pip install imageai"
      ],
      "execution_count": 8,
      "outputs": [
        {
          "output_type": "stream",
          "text": [
            "Collecting imageai\n",
            "\u001b[?25l  Downloading https://files.pythonhosted.org/packages/73/44/3d5d8ef572888025666eec284e85f9243faf06ca8c12085dcff1ca9754ed/imageai-2.1.6-py3-none-any.whl (160kB)\n",
            "\r\u001b[K     |██                              | 10kB 18.2MB/s eta 0:00:01\r\u001b[K     |████                            | 20kB 15.6MB/s eta 0:00:01\r\u001b[K     |██████                          | 30kB 10.2MB/s eta 0:00:01\r\u001b[K     |████████▏                       | 40kB 12.0MB/s eta 0:00:01\r\u001b[K     |██████████▏                     | 51kB 9.0MB/s eta 0:00:01\r\u001b[K     |████████████▏                   | 61kB 7.3MB/s eta 0:00:01\r\u001b[K     |██████████████▎                 | 71kB 8.3MB/s eta 0:00:01\r\u001b[K     |████████████████▎               | 81kB 9.2MB/s eta 0:00:01\r\u001b[K     |██████████████████▎             | 92kB 9.5MB/s eta 0:00:01\r\u001b[K     |████████████████████▍           | 102kB 8.6MB/s eta 0:00:01\r\u001b[K     |██████████████████████▍         | 112kB 8.6MB/s eta 0:00:01\r\u001b[K     |████████████████████████▍       | 122kB 8.6MB/s eta 0:00:01\r\u001b[K     |██████████████████████████▌     | 133kB 8.6MB/s eta 0:00:01\r\u001b[K     |████████████████████████████▌   | 143kB 8.6MB/s eta 0:00:01\r\u001b[K     |██████████████████████████████▌ | 153kB 8.6MB/s eta 0:00:01\r\u001b[K     |████████████████████████████████| 163kB 8.6MB/s \n",
            "\u001b[?25hRequirement already satisfied: scipy==1.4.1 in /usr/local/lib/python3.6/dist-packages (from imageai) (1.4.1)\n",
            "Requirement already satisfied: keras==2.4.3 in /usr/local/lib/python3.6/dist-packages (from imageai) (2.4.3)\n",
            "Requirement already satisfied: pillow==7.0.0 in /usr/local/lib/python3.6/dist-packages (from imageai) (7.0.0)\n",
            "Collecting keras-resnet==0.2.0\n",
            "  Downloading https://files.pythonhosted.org/packages/76/d4/a35cbd07381139dda4db42c81b88c59254faac026109022727b45b31bcad/keras-resnet-0.2.0.tar.gz\n",
            "Requirement already satisfied: opencv-python in /usr/local/lib/python3.6/dist-packages (from imageai) (4.1.2.30)\n",
            "Collecting matplotlib==3.3.2\n",
            "\u001b[?25l  Downloading https://files.pythonhosted.org/packages/cd/d6/8c4dfb23151d5a494c66ebbfdb5c8c433b44ec07fae52da5939fcda0943f/matplotlib-3.3.2-cp36-cp36m-manylinux1_x86_64.whl (11.6MB)\n",
            "\u001b[K     |████████████████████████████████| 11.6MB 6.4MB/s \n",
            "\u001b[?25hCollecting numpy==1.19.3\n",
            "\u001b[?25l  Downloading https://files.pythonhosted.org/packages/0e/f7/a7d7e0de99a7b43bd95aaddcf29e65b5a185ca389dd1329a53cc986edc38/numpy-1.19.3-cp36-cp36m-manylinux2010_x86_64.whl (14.9MB)\n",
            "\u001b[K     |████████████████████████████████| 14.9MB 346kB/s \n",
            "\u001b[?25hRequirement already satisfied: h5py==2.10.0 in /usr/local/lib/python3.6/dist-packages (from imageai) (2.10.0)\n",
            "Requirement already satisfied: pyyaml in /usr/local/lib/python3.6/dist-packages (from keras==2.4.3->imageai) (3.13)\n",
            "Requirement already satisfied: cycler>=0.10 in /usr/local/lib/python3.6/dist-packages (from matplotlib==3.3.2->imageai) (0.10.0)\n",
            "Requirement already satisfied: certifi>=2020.06.20 in /usr/local/lib/python3.6/dist-packages (from matplotlib==3.3.2->imageai) (2020.12.5)\n",
            "Requirement already satisfied: kiwisolver>=1.0.1 in /usr/local/lib/python3.6/dist-packages (from matplotlib==3.3.2->imageai) (1.3.1)\n",
            "Requirement already satisfied: python-dateutil>=2.1 in /usr/local/lib/python3.6/dist-packages (from matplotlib==3.3.2->imageai) (2.8.1)\n",
            "Requirement already satisfied: pyparsing!=2.0.4,!=2.1.2,!=2.1.6,>=2.0.3 in /usr/local/lib/python3.6/dist-packages (from matplotlib==3.3.2->imageai) (2.4.7)\n",
            "Requirement already satisfied: six in /usr/local/lib/python3.6/dist-packages (from h5py==2.10.0->imageai) (1.15.0)\n",
            "Building wheels for collected packages: keras-resnet\n",
            "  Building wheel for keras-resnet (setup.py) ... \u001b[?25l\u001b[?25hdone\n",
            "  Created wheel for keras-resnet: filename=keras_resnet-0.2.0-py2.py3-none-any.whl size=20486 sha256=6ae6752fab961ea4d6c1ded6247b02ba4038edc52663195eced88947fc160273\n",
            "  Stored in directory: /root/.cache/pip/wheels/5f/09/a5/497a30fd9ad9964e98a1254d1e164bcd1b8a5eda36197ecb3c\n",
            "Successfully built keras-resnet\n",
            "\u001b[31mERROR: datascience 0.10.6 has requirement folium==0.2.1, but you'll have folium 0.8.3 which is incompatible.\u001b[0m\n",
            "\u001b[31mERROR: albumentations 0.1.12 has requirement imgaug<0.2.7,>=0.2.5, but you'll have imgaug 0.2.9 which is incompatible.\u001b[0m\n",
            "Installing collected packages: keras-resnet, numpy, matplotlib, imageai\n",
            "  Found existing installation: numpy 1.19.5\n",
            "    Uninstalling numpy-1.19.5:\n",
            "      Successfully uninstalled numpy-1.19.5\n",
            "  Found existing installation: matplotlib 3.2.2\n",
            "    Uninstalling matplotlib-3.2.2:\n",
            "      Successfully uninstalled matplotlib-3.2.2\n",
            "Successfully installed imageai-2.1.6 keras-resnet-0.2.0 matplotlib-3.3.2 numpy-1.19.3\n"
          ],
          "name": "stdout"
        },
        {
          "output_type": "display_data",
          "data": {
            "application/vnd.colab-display-data+json": {
              "pip_warning": {
                "packages": [
                  "matplotlib",
                  "mpl_toolkits",
                  "numpy"
                ]
              }
            }
          },
          "metadata": {
            "tags": []
          }
        }
      ]
    },
    {
      "cell_type": "code",
      "metadata": {
        "id": "P4ct8QarORBF"
      },
      "source": [
        "import imageai"
      ],
      "execution_count": 1,
      "outputs": []
    },
    {
      "cell_type": "markdown",
      "metadata": {
        "id": "uzv7KFldOw3e"
      },
      "source": [
        "### Markdown"
      ]
    },
    {
      "cell_type": "markdown",
      "metadata": {
        "id": "0ac3jpeBO0nk"
      },
      "source": [
        "Examples of *markdown*\r\n",
        "\r\n",
        "Examples of **markdown**\r\n",
        "\r\n",
        "Examples of __markdown__\r\n",
        "\r\n",
        "Examples of `markdown`\r\n",
        "\r\n",
        "```\r\n",
        "Examples of markdown\r\n",
        "```\r\n",
        "\r\n",
        "> Python\r\n",
        ">> Code\r\n",
        "\r\n",
        "An ordered list:\r\n",
        "1. One\r\n",
        "2. Two\r\n",
        "3. Three\r\n",
        "\r\n",
        "An unordered list:\r\n",
        "* One\r\n",
        "* Two\r\n",
        "* Three"
      ]
    },
    {
      "cell_type": "markdown",
      "metadata": {
        "id": "bW32zVkEQiY4"
      },
      "source": [
        "[Google](https://www.google.com/)\r\n",
        "\r\n",
        "![Python](https://www.python.org/static/community_logos/python-logo-inkscape.svg)"
      ]
    },
    {
      "cell_type": "markdown",
      "metadata": {
        "id": "9VwqipZeSiRP"
      },
      "source": [
        ""
      ]
    },
    {
      "cell_type": "markdown",
      "metadata": {
        "id": "gmzU7VZmRCu7"
      },
      "source": [
        "$y = x^2$\r\n",
        "\r\n",
        "$\\frac{1}{n} \\sum_{i=1}^{n}x_{i}$"
      ]
    },
    {
      "cell_type": "markdown",
      "metadata": {
        "id": "QOAxATwxRtfM"
      },
      "source": [
        "$A = \\begin{pmatrix}\r\n",
        "a_{1,1} & a_{1,2} \\\\\r\n",
        "a_{2,1} & a_{2,2,}\r\n",
        "\\end{pmatrix}$"
      ]
    },
    {
      "cell_type": "markdown",
      "metadata": {
        "id": "J1HZwMLLSkJR"
      },
      "source": [
        "Col1 | Col2 | Col3\r\n",
        "--- | --- | ---\r\n",
        "val1 | val2 | val3\r\n",
        "val4 | val5 | val6"
      ]
    },
    {
      "cell_type": "code",
      "metadata": {
        "id": "XQpq45dZOiD9"
      },
      "source": [
        ""
      ],
      "execution_count": null,
      "outputs": []
    }
  ]
}